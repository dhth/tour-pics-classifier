{
  "nbformat": 4,
  "nbformat_minor": 0,
  "metadata": {
    "colab": {
      "name": "exp-3",
      "version": "0.3.2",
      "provenance": [],
      "collapsed_sections": [
        "Ga8OZofidjac",
        "7VcmCAPby7e8",
        "LUK1lhQ2TnIE",
        "WPsA3es9uOJt",
        "-JasgpAduD25"
      ],
      "include_colab_link": true
    },
    "language_info": {
      "codemirror_mode": {
        "name": "ipython",
        "version": 3
      },
      "file_extension": ".py",
      "mimetype": "text/x-python",
      "name": "python",
      "nbconvert_exporter": "python",
      "pygments_lexer": "ipython3",
      "version": "3.7.0"
    },
    "kernelspec": {
      "name": "python3",
      "display_name": "Python 3"
    },
    "accelerator": "GPU"
  },
  "cells": [
    {
      "cell_type": "markdown",
      "metadata": {
        "id": "view-in-github",
        "colab_type": "text"
      },
      "source": [
        "<a href=\"https://colab.research.google.com/github/dhth/tour-pics-classifier/blob/master/experiments/exp_3.ipynb\" target=\"_parent\"><img src=\"https://colab.research.google.com/assets/colab-badge.svg\" alt=\"Open In Colab\"/></a>"
      ]
    },
    {
      "cell_type": "markdown",
      "metadata": {
        "id": "Ga8OZofidjac",
        "colab_type": "text"
      },
      "source": [
        "# Experiment #3"
      ]
    },
    {
      "cell_type": "markdown",
      "metadata": {
        "id": "PaMqnPan0jTa",
        "colab_type": "text"
      },
      "source": [
        "Follow-up to [experiment-2](https://github.com/dhth/tour-pics-classifier/blob/master/experiments/exp_2.ipynb).\n",
        "\n",
        "**Aim:** Generate heatmaps to see what areas influence the most in coming up with a prediction."
      ]
    },
    {
      "cell_type": "markdown",
      "metadata": {
        "id": "7VcmCAPby7e8",
        "colab_type": "text"
      },
      "source": [
        "## Setup"
      ]
    },
    {
      "cell_type": "code",
      "metadata": {
        "id": "NALygJSXdjae",
        "colab_type": "code",
        "colab": {}
      },
      "source": [
        "%reload_ext autoreload\n",
        "%autoreload 2\n",
        "%matplotlib inline"
      ],
      "execution_count": 0,
      "outputs": []
    },
    {
      "cell_type": "code",
      "metadata": {
        "id": "cCnoJ3NDE8hg",
        "colab_type": "code",
        "colab": {}
      },
      "source": [
        "from google.colab import drive\n",
        "drive.mount('/content/gdrive')\n",
        "DRIVE_BASE_PATH = \"/content/gdrive/My\\ Drive/Colab\\ Notebooks/\""
      ],
      "execution_count": 0,
      "outputs": []
    },
    {
      "cell_type": "code",
      "metadata": {
        "id": "_QZvT3lTdjah",
        "colab_type": "code",
        "colab": {}
      },
      "source": [
        "from fastai import *\n",
        "from fastai.vision import *"
      ],
      "execution_count": 0,
      "outputs": []
    },
    {
      "cell_type": "code",
      "metadata": {
        "id": "aasKzuigV4gd",
        "colab_type": "code",
        "colab": {}
      },
      "source": [
        "import requests\n",
        "import base64"
      ],
      "execution_count": 0,
      "outputs": []
    },
    {
      "cell_type": "code",
      "metadata": {
        "id": "Ixof7LDTV6DR",
        "colab_type": "code",
        "colab": {}
      },
      "source": [
        "with open('img_at.txt') as f:\n",
        "    ACCESS_TOKEN = f.read().strip()"
      ],
      "execution_count": 0,
      "outputs": []
    },
    {
      "cell_type": "code",
      "metadata": {
        "id": "9SvLVOAEV82J",
        "colab_type": "code",
        "colab": {}
      },
      "source": [
        "def create_imgur_album(title,description='',privacy='hidden'):\n",
        "    url = 'https://api.imgur.com/3/album'\n",
        "    payload = {\n",
        "        'title': title,\n",
        "        'description': description,\n",
        "        'privacy':privacy}\n",
        "    files = {}\n",
        "    headers = {\n",
        "      'Authorization': f'Bearer {ACCESS_TOKEN}'\n",
        "    }\n",
        "    response = requests.request('POST', url, headers = headers, data = payload, files = files, allow_redirects=False)\n",
        "    print(f\"https://imgur.com/a/{response.json()['data']['id']}\")"
      ],
      "execution_count": 0,
      "outputs": []
    },
    {
      "cell_type": "code",
      "metadata": {
        "id": "edFXbYqjiPSE",
        "colab_type": "code",
        "colab": {}
      },
      "source": [
        "album_hash = \"K61TEc1\""
      ],
      "execution_count": 0,
      "outputs": []
    },
    {
      "cell_type": "code",
      "metadata": {
        "id": "lf5dZyAYV-f_",
        "colab_type": "code",
        "colab": {}
      },
      "source": [
        "def upload_to_imgur(file_name,post_title,album_hash):\n",
        "    url = 'https://api.imgur.com/3/image'\n",
        "    fh = open(file_name, 'rb');\n",
        "    payload = {'image': base64.b64encode(fh.read()),\n",
        "              'album':album_hash,\n",
        "              'type':'base64',\n",
        "              'title':post_title,\n",
        "              'looping':False\n",
        "              }\n",
        "    files = {}\n",
        "    headers = {\n",
        "      'Authorization': f'Bearer {ACCESS_TOKEN}'\n",
        "    }\n",
        "    response = requests.request('POST', url, headers = headers, data = payload, files = files, allow_redirects=False)\n",
        "    return response.json()['data']['link']"
      ],
      "execution_count": 0,
      "outputs": []
    },
    {
      "cell_type": "code",
      "metadata": {
        "id": "m_BF8tCDi4Qf",
        "colab_type": "code",
        "colab": {}
      },
      "source": [
        "def save_to_img(save_name):\n",
        "    plt.savefig(f'{save_name}.png')\n",
        "    img_link = upload_to_imgur(f'{save_name}.png',\n",
        "                    f'{save_name}',album_hash)\n",
        "    print(f'![]({img_link})')"
      ],
      "execution_count": 0,
      "outputs": []
    },
    {
      "cell_type": "markdown",
      "metadata": {
        "id": "LUK1lhQ2TnIE",
        "colab_type": "text"
      },
      "source": [
        "## Loading saved model"
      ]
    },
    {
      "cell_type": "code",
      "metadata": {
        "id": "y_T9MYNOzidM",
        "colab_type": "code",
        "colab": {}
      },
      "source": [
        "!mkdir -p local_only_data/models/"
      ],
      "execution_count": 0,
      "outputs": []
    },
    {
      "cell_type": "code",
      "metadata": {
        "id": "X6MBa2HyHfa-",
        "colab_type": "code",
        "colab": {}
      },
      "source": [
        "!cp {DRIVE_BASE_PATH}/saved_models/TR/exp-2-3-classes-740-im-stage-2-3-epochs.pth local_only_data/models/"
      ],
      "execution_count": 0,
      "outputs": []
    },
    {
      "cell_type": "code",
      "metadata": {
        "id": "hJ59rS6WM0wC",
        "colab_type": "code",
        "colab": {}
      },
      "source": [
        "DATA_PATH = 'local_only_data'"
      ],
      "execution_count": 0,
      "outputs": []
    },
    {
      "cell_type": "code",
      "metadata": {
        "id": "M5mQ1FZSMvFc",
        "colab_type": "code",
        "colab": {}
      },
      "source": [
        "classes = ['landscape', 'people-close-up', 'people-landscape']\n",
        "data = ImageDataBunch.single_from_classes(DATA_PATH, classes, size=224).normalize(imagenet_stats)\n",
        "learn = cnn_learner(data, models.resnet34, pretrained=False)"
      ],
      "execution_count": 0,
      "outputs": []
    },
    {
      "cell_type": "code",
      "metadata": {
        "id": "P-3S547MMUWW",
        "colab_type": "code",
        "colab": {}
      },
      "source": [
        "learn.load('exp-2-3-classes-740-im-stage-2-3-epochs');"
      ],
      "execution_count": 0,
      "outputs": []
    },
    {
      "cell_type": "markdown",
      "metadata": {
        "id": "WPsA3es9uOJt",
        "colab_type": "text"
      },
      "source": [
        "## Non-class discriminative heatmaps"
      ]
    },
    {
      "cell_type": "markdown",
      "metadata": {
        "id": "eVUVQE2DNVoJ",
        "colab_type": "text"
      },
      "source": [
        "### Easy images"
      ]
    },
    {
      "cell_type": "code",
      "metadata": {
        "id": "x52MpHCxPL6j",
        "colab_type": "code",
        "colab": {}
      },
      "source": [
        "test_data ={\n",
        "    \"landscape\": [\n",
        "        \"https://cdn.tourradar.com/s3/content-pages/89/1200x630/aLxKP8.jpg\",\n",
        "        \"https://cdn.tourradar.com/s3/review/750x400/130750_b1fa7c36.jpg\",\n",
        "        \"https://cdn.tourradar.com/s3/review/750x400/105003_1c235882.jpg\"\n",
        "        ],\n",
        "                    \n",
        "    \"people-landscape\": [\n",
        "        \"https://cdn.tourradar.com/s3/review/750x400/136416_f4803a33.jpg\",\n",
        "        \"https://cdn.tourradar.com/s3/review/750x400/114273_9ab28070.jpg\",\n",
        "        \"https://cdn.tourradar.com/s3/review/750x400/127867_dbaa633e.jpg\"\n",
        "        ],\n",
        "    \"people-close-up\": [\n",
        "        \"https://cdn.tourradar.com/s3/review/750x400/94503_18341db0.jpg\",\n",
        "        \"https://cdn.tourradar.com/s3/review/750x400/97696_90e6a228.jpg\",\n",
        "        \"https://cdn.tourradar.com/s3/review/750x400/115007_a769a0fe.jpg\"\n",
        "    ]\n",
        "}"
      ],
      "execution_count": 0,
      "outputs": []
    },
    {
      "cell_type": "code",
      "metadata": {
        "id": "QW9fHUGzPv1Y",
        "colab_type": "code",
        "colab": {}
      },
      "source": [
        "def fetch_test_pics(image_dict, local_dir_name, data_classes):\n",
        "    !mkdir -p {local_dir_name}\n",
        "\n",
        "    for class_name in data_classes:\n",
        "        for i, el in enumerate(image_dict[class_name]):\n",
        "            print(f'wget -q \"{el}\" -O {local_dir_name}/{class_name}_{i}.jpg')\n",
        "            !wget -q \"{el}\" -O {local_dir_name}/{class_name}_{i}.jpg\n",
        "\n",
        "    return Path(local_dir_name)"
      ],
      "execution_count": 0,
      "outputs": []
    },
    {
      "cell_type": "code",
      "metadata": {
        "id": "cLl7ufi5QAcQ",
        "colab_type": "code",
        "colab": {
          "base_uri": "https://localhost:8080/",
          "height": 193
        },
        "outputId": "cae5e5f2-469b-4849-b039-4ee9125c4748"
      },
      "source": [
        "test_path = fetch_test_pics(test_data, 'local_only_test_data', classes)"
      ],
      "execution_count": 14,
      "outputs": [
        {
          "output_type": "stream",
          "text": [
            "wget -q \"https://cdn.tourradar.com/s3/content-pages/89/1200x630/aLxKP8.jpg\" -O local_only_test_data/landscape_0.jpg\n",
            "wget -q \"https://cdn.tourradar.com/s3/review/750x400/130750_b1fa7c36.jpg\" -O local_only_test_data/landscape_1.jpg\n",
            "wget -q \"https://cdn.tourradar.com/s3/review/750x400/105003_1c235882.jpg\" -O local_only_test_data/landscape_2.jpg\n",
            "wget -q \"https://cdn.tourradar.com/s3/review/750x400/94503_18341db0.jpg\" -O local_only_test_data/people-close-up_0.jpg\n",
            "wget -q \"https://cdn.tourradar.com/s3/review/750x400/97696_90e6a228.jpg\" -O local_only_test_data/people-close-up_1.jpg\n",
            "wget -q \"https://cdn.tourradar.com/s3/review/750x400/115007_a769a0fe.jpg\" -O local_only_test_data/people-close-up_2.jpg\n",
            "wget -q \"https://cdn.tourradar.com/s3/review/750x400/136416_f4803a33.jpg\" -O local_only_test_data/people-landscape_0.jpg\n",
            "wget -q \"https://cdn.tourradar.com/s3/review/750x400/114273_9ab28070.jpg\" -O local_only_test_data/people-landscape_1.jpg\n",
            "wget -q \"https://cdn.tourradar.com/s3/review/750x400/127867_dbaa633e.jpg\" -O local_only_test_data/people-landscape_2.jpg\n"
          ],
          "name": "stdout"
        }
      ]
    },
    {
      "cell_type": "code",
      "metadata": {
        "id": "jQaJmtZL0frH",
        "colab_type": "code",
        "outputId": "b0bb2821-5542-4994-a1f7-1da7d555dea1",
        "colab": {
          "base_uri": "https://localhost:8080/",
          "height": 173
        }
      },
      "source": [
        "test_path.ls()"
      ],
      "execution_count": 15,
      "outputs": [
        {
          "output_type": "execute_result",
          "data": {
            "text/plain": [
              "[PosixPath('local_only_test_data/people-close-up_2.jpg'),\n",
              " PosixPath('local_only_test_data/people-landscape_2.jpg'),\n",
              " PosixPath('local_only_test_data/people-close-up_0.jpg'),\n",
              " PosixPath('local_only_test_data/people-landscape_0.jpg'),\n",
              " PosixPath('local_only_test_data/landscape_0.jpg'),\n",
              " PosixPath('local_only_test_data/people-landscape_1.jpg'),\n",
              " PosixPath('local_only_test_data/landscape_2.jpg'),\n",
              " PosixPath('local_only_test_data/landscape_1.jpg'),\n",
              " PosixPath('local_only_test_data/people-close-up_1.jpg')]"
            ]
          },
          "metadata": {
            "tags": []
          },
          "execution_count": 15
        }
      ]
    },
    {
      "cell_type": "code",
      "metadata": {
        "id": "SnFaJoE402YZ",
        "colab_type": "code",
        "colab": {}
      },
      "source": [
        "from fastai.callbacks.hooks import *"
      ],
      "execution_count": 0,
      "outputs": []
    },
    {
      "cell_type": "code",
      "metadata": {
        "id": "OxdJM2ub031A",
        "colab_type": "code",
        "colab": {}
      },
      "source": [
        "m = learn.model.eval();"
      ],
      "execution_count": 0,
      "outputs": []
    },
    {
      "cell_type": "code",
      "metadata": {
        "id": "RD9BI7nI1RoY",
        "colab_type": "code",
        "colab": {}
      },
      "source": [
        "IMG_SIZE = 224"
      ],
      "execution_count": 0,
      "outputs": []
    },
    {
      "cell_type": "code",
      "metadata": {
        "id": "7uTMdhbK0xJA",
        "colab_type": "code",
        "colab": {}
      },
      "source": [
        "def non_class_discriminative_activations(xb):\n",
        "    with hook_output(m[0]) as hook_a: \n",
        "        preds = m(xb)\n",
        "    return hook_a"
      ],
      "execution_count": 0,
      "outputs": []
    },
    {
      "cell_type": "code",
      "metadata": {
        "id": "JkmyNQyE0THs",
        "colab_type": "code",
        "colab": {}
      },
      "source": [
        "def show_non_class_discriminative_heatmap(x):\n",
        "    xb,_ = data.one_item(x)\n",
        "    xb_im = Image(data.denorm(xb)[0])\n",
        "    xb = xb.cuda()\n",
        "    hook_a = non_class_discriminative_activations(xb)\n",
        "    acts  = hook_a.stored[0].cpu()\n",
        "    avg_acts = acts.mean(0)\n",
        "    \n",
        "    _,ax = plt.subplots()\n",
        "    xb_im.show(ax)\n",
        "    ax.imshow(avg_acts, alpha=0.6, extent=(0,IMG_SIZE,IMG_SIZE,0),\n",
        "              interpolation='bilinear', cmap='magma');"
      ],
      "execution_count": 0,
      "outputs": []
    },
    {
      "cell_type": "code",
      "metadata": {
        "id": "M6ckdhxr1iAi",
        "colab_type": "code",
        "colab": {}
      },
      "source": [
        "def plot_non_class_disc_multi(img_paths):\n",
        "    \n",
        "    num_cols = 2\n",
        "    num_rows = len(img_paths)\n",
        "    mul = 3\n",
        "    \n",
        "    fig,ax = plt.subplots(num_rows,num_cols, figsize=(num_cols*mul,num_rows*mul))\n",
        "\n",
        "    for i in range(num_rows):\n",
        "        x = open_image(img_paths[i])\n",
        "        pred_class,pred_idx,outputs = learn.predict(x)\n",
        "        xb,_ = data.one_item(x)\n",
        "        xb_im = Image(data.denorm(xb)[0])\n",
        "        xb = xb.cuda()\n",
        "        hook_a = non_class_discriminative_activations(xb)\n",
        "        acts  = hook_a.stored[0].cpu()\n",
        "        avg_acts = acts.mean(0)\n",
        "        xb_im.show(ax[i,0])\n",
        "        xb_im.show(ax[i,1])\n",
        "        ax[i,1].set_title(f'Predicted: {pred_class.obj}')\n",
        "        ax[i,1].imshow(avg_acts, alpha=0.6, extent=(0,IMG_SIZE,IMG_SIZE,0),\n",
        "                      interpolation='bilinear', cmap='magma');\n",
        "    plt.tight_layout()"
      ],
      "execution_count": 0,
      "outputs": []
    },
    {
      "cell_type": "code",
      "metadata": {
        "id": "5bA3fceXrHCo",
        "colab_type": "code",
        "colab": {}
      },
      "source": [
        "save_name = 'non-class-disc-1'\n",
        "\n",
        "plot_non_class_disc_multi(test_path.ls()[:6])\n",
        "\n",
        "plt.savefig(f'{save_name}.png')\n",
        "img_link = upload_to_imgur(f'{save_name}.png',\n",
        "                    f'{save_name}',album_hash)\n",
        "print(f'![]({img_link})')"
      ],
      "execution_count": 0,
      "outputs": []
    },
    {
      "cell_type": "markdown",
      "metadata": {
        "id": "CK6CQZBOtHjX",
        "colab_type": "text"
      },
      "source": [
        "![](https://i.imgur.com/rjhxMaE.png)"
      ]
    },
    {
      "cell_type": "markdown",
      "metadata": {
        "id": "kRxcJvZIH4AX",
        "colab_type": "text"
      },
      "source": [
        "### Tricky Images"
      ]
    },
    {
      "cell_type": "code",
      "metadata": {
        "id": "C-2fihRBHysF",
        "colab_type": "code",
        "colab": {}
      },
      "source": [
        "tricky_images = [\n",
        "    \"https://cdn.tourradar.com/s3/review/750x400/105139_192ef04f.jpg\",\n",
        "    \"https://cdn.tourradar.com/s3/review/750x400/66523_1a1ef7b4.jpg\",\n",
        "    \"https://cdn.tourradar.com/s3/review/750x400/109793_29f3718d.jpg\",\n",
        "    \"https://cdn.tourradar.com/s3/review/750x400/111981_5385e8e8.jpg\",\n",
        "    \"https://cdn.tourradar.com/s3/review/750x400/103167_7f17d844.jpg\",\n",
        "    \"https://cdn.tourradar.com/s3/tour/750x400/88570_0ce071f8.jpg\",\n",
        "    \"https://cdn.tourradar.com/s3/review/750x400/134784_88c6e7db.jpg\",\n",
        "    \"https://cdn.tourradar.com/s3/tour/750x400/28314_11ae05a4.jpg\",\n",
        "    \"https://cdn.tourradar.com/s3/review/750x400/79694_47d829bf.jpg\"\n",
        "]"
      ],
      "execution_count": 0,
      "outputs": []
    },
    {
      "cell_type": "code",
      "metadata": {
        "id": "uTTBtNQgH4wQ",
        "colab_type": "code",
        "colab": {}
      },
      "source": [
        "def fetch_tricky_pics(image_list, local_dir_name):\n",
        "    !mkdir -p {local_dir_name}\n",
        "    for i, el in enumerate(image_list):\n",
        "        print(f'wget -q \"{el}\" -O {local_dir_name}/file_{i}.jpg')\n",
        "        !wget -q \"{el}\" -O {local_dir_name}/file_{i}.jpg\n",
        "\n",
        "    return Path(local_dir_name)"
      ],
      "execution_count": 0,
      "outputs": []
    },
    {
      "cell_type": "code",
      "metadata": {
        "id": "6xXZ8oI1L3be",
        "colab_type": "code",
        "outputId": "9ba7923e-784a-4803-c67a-9decd1d12825",
        "colab": {
          "base_uri": "https://localhost:8080/",
          "height": 173
        }
      },
      "source": [
        "test_path_2 = fetch_tricky_pics(tricky_images, 'local_only_test_data_tricky')"
      ],
      "execution_count": 51,
      "outputs": [
        {
          "output_type": "stream",
          "text": [
            "wget -q \"https://cdn.tourradar.com/s3/review/750x400/105139_192ef04f.jpg\" -O local_only_test_data_tricky/file_0.jpg\n",
            "wget -q \"https://cdn.tourradar.com/s3/review/750x400/66523_1a1ef7b4.jpg\" -O local_only_test_data_tricky/file_1.jpg\n",
            "wget -q \"https://cdn.tourradar.com/s3/review/750x400/109793_29f3718d.jpg\" -O local_only_test_data_tricky/file_2.jpg\n",
            "wget -q \"https://cdn.tourradar.com/s3/review/750x400/111981_5385e8e8.jpg\" -O local_only_test_data_tricky/file_3.jpg\n",
            "wget -q \"https://cdn.tourradar.com/s3/review/750x400/103167_7f17d844.jpg\" -O local_only_test_data_tricky/file_4.jpg\n",
            "wget -q \"https://cdn.tourradar.com/s3/tour/750x400/88570_0ce071f8.jpg\" -O local_only_test_data_tricky/file_5.jpg\n",
            "wget -q \"https://cdn.tourradar.com/s3/review/750x400/134784_88c6e7db.jpg\" -O local_only_test_data_tricky/file_6.jpg\n",
            "wget -q \"https://cdn.tourradar.com/s3/tour/750x400/28314_11ae05a4.jpg\" -O local_only_test_data_tricky/file_7.jpg\n",
            "wget -q \"https://cdn.tourradar.com/s3/review/750x400/79694_47d829bf.jpg\" -O local_only_test_data_tricky/file_8.jpg\n"
          ],
          "name": "stdout"
        }
      ]
    },
    {
      "cell_type": "code",
      "metadata": {
        "id": "NtYb_yaCL_Rp",
        "colab_type": "code",
        "colab": {}
      },
      "source": [
        "save_name = 'non-class-disc-2'\n",
        "\n",
        "plot_non_class_disc_multi(test_path_2.ls()[:8])\n",
        "\n",
        "plt.savefig(f'{save_name}.png')\n",
        "img_link = upload_to_imgur(f'{save_name}.png',\n",
        "                    f'{save_name}',album_hash)\n",
        "print(f'![]({img_link})')"
      ],
      "execution_count": 0,
      "outputs": []
    },
    {
      "cell_type": "markdown",
      "metadata": {
        "id": "1hQ9VJ4roReW",
        "colab_type": "text"
      },
      "source": [
        "![](https://i.imgur.com/OQloaw4.png)"
      ]
    },
    {
      "cell_type": "markdown",
      "metadata": {
        "id": "-JasgpAduD25",
        "colab_type": "text"
      },
      "source": [
        "## Class-discriminative heatmaps"
      ]
    },
    {
      "cell_type": "code",
      "metadata": {
        "id": "G_2veM1Lwbdx",
        "colab_type": "code",
        "colab": {
          "base_uri": "https://localhost:8080/",
          "height": 35
        },
        "outputId": "e8c42c18-4ddf-4ea3-842e-a4486599017e"
      },
      "source": [
        "class_dict = {}\n",
        "for i,el in enumerate(data.classes):\n",
        "    class_dict[el.lower()] = i\n",
        "class_dict"
      ],
      "execution_count": 58,
      "outputs": [
        {
          "output_type": "execute_result",
          "data": {
            "text/plain": [
              "{'landscape': 0, 'people-close-up': 1, 'people-landscape': 2}"
            ]
          },
          "metadata": {
            "tags": []
          },
          "execution_count": 58
        }
      ]
    },
    {
      "cell_type": "code",
      "metadata": {
        "id": "B8X-QMSgwysg",
        "colab_type": "code",
        "colab": {}
      },
      "source": [
        "def class_discriminative_activations(xb,cat):\n",
        "    with hook_output(m[0]) as hook_a: \n",
        "        with hook_output(m[0], grad=True) as hook_g:\n",
        "            preds = m(xb)\n",
        "            preds[0,int(cat)].backward()\n",
        "    return hook_a,hook_g"
      ],
      "execution_count": 0,
      "outputs": []
    },
    {
      "cell_type": "code",
      "metadata": {
        "id": "AboRdZkIuG11",
        "colab_type": "code",
        "colab": {}
      },
      "source": [
        "def show_class_discriminative_heatmap(path,cat_name,relu=True,figsize=(8,4)):\n",
        "    \n",
        "    fig,ax = plt.subplots(1,2, figsize=figsize)\n",
        "    \n",
        "    x = open_image(path)\n",
        "    xb,_ = data.one_item(x)\n",
        "    xb_im = Image(data.denorm(xb)[0])\n",
        "    xb = xb.cuda()\n",
        "    hook_a,hook_g = class_discriminative_activations(xb,class_dict[cat_name])\n",
        "    acts = hook_a.stored[0].cpu()\n",
        "    grad = hook_g.stored[0][0].cpu()\n",
        "\n",
        "    grad_chan = grad.mean(1).mean(1)\n",
        "    mult = (acts*grad_chan[...,None,None]).mean(0)\n",
        "    \n",
        "    if relu:\n",
        "        mult = F.relu(mult)\n",
        "    \n",
        "    xb_im.show(ax[0])\n",
        "    xb_im.show(ax[1])\n",
        "    ax[1].imshow(mult, alpha=0.6, extent=(0,IMG_SIZE,IMG_SIZE,0),\n",
        "              interpolation='bilinear', cmap='magma');\n",
        "    plt.title(f'Area influencing {cat_name}')\n",
        "    plt.tight_layout()"
      ],
      "execution_count": 0,
      "outputs": []
    },
    {
      "cell_type": "code",
      "metadata": {
        "id": "N8uybslfwZ3s",
        "colab_type": "code",
        "colab": {}
      },
      "source": [
        "show_class_discriminative_heatmap(test_path.ls()[1],'landscape')\n",
        "\n",
        "save_name = 'class-disc-1'\n",
        "\n",
        "plt.savefig(f'{save_name}.png')\n",
        "img_link = upload_to_imgur(f'{save_name}.png',\n",
        "                    f'{save_name}',album_hash)\n",
        "print(f'![]({img_link})')"
      ],
      "execution_count": 0,
      "outputs": []
    },
    {
      "cell_type": "markdown",
      "metadata": {
        "id": "j5Vhas5sxVw-",
        "colab_type": "text"
      },
      "source": [
        "![](https://i.imgur.com/VJ6yOGb.png)"
      ]
    },
    {
      "cell_type": "code",
      "metadata": {
        "id": "-woLMsoJxGct",
        "colab_type": "code",
        "colab": {}
      },
      "source": [
        "show_class_discriminative_heatmap(test_path.ls()[1],'people-landscape')\n",
        "\n",
        "save_name = 'class-disc-2'\n",
        "\n",
        "plt.savefig(f'{save_name}.png')\n",
        "img_link = upload_to_imgur(f'{save_name}.png',\n",
        "                    f'{save_name}',album_hash)\n",
        "print(f'![]({img_link})')"
      ],
      "execution_count": 0,
      "outputs": []
    },
    {
      "cell_type": "markdown",
      "metadata": {
        "id": "DS2xbQrnxl0g",
        "colab_type": "text"
      },
      "source": [
        "![](https://i.imgur.com/GKoLySZ.png)"
      ]
    },
    {
      "cell_type": "code",
      "metadata": {
        "id": "-Rol5SmkwmxD",
        "colab_type": "code",
        "colab": {}
      },
      "source": [
        "show_class_discriminative_heatmap(test_path_2.ls()[0],'landscape')\n",
        "\n",
        "save_name = 'class-disc-3'\n",
        "\n",
        "plt.savefig(f'{save_name}.png')\n",
        "img_link = upload_to_imgur(f'{save_name}.png',\n",
        "                    f'{save_name}',album_hash)\n",
        "print(f'![]({img_link})')"
      ],
      "execution_count": 0,
      "outputs": []
    },
    {
      "cell_type": "markdown",
      "metadata": {
        "id": "gZe7_FJaxyDg",
        "colab_type": "text"
      },
      "source": [
        "![](https://i.imgur.com/eV9B3gT.png)"
      ]
    },
    {
      "cell_type": "code",
      "metadata": {
        "id": "v5mtkJtOwjHE",
        "colab_type": "code",
        "colab": {}
      },
      "source": [
        "show_class_discriminative_heatmap(test_path_2.ls()[0],'people-landscape')\n",
        "\n",
        "save_name = 'class-disc-4'\n",
        "\n",
        "plt.savefig(f'{save_name}.png')\n",
        "img_link = upload_to_imgur(f'{save_name}.png',\n",
        "                    f'{save_name}',album_hash)\n",
        "print(f'![]({img_link})')"
      ],
      "execution_count": 0,
      "outputs": []
    },
    {
      "cell_type": "markdown",
      "metadata": {
        "id": "N1KylxcIx4oU",
        "colab_type": "text"
      },
      "source": [
        "![](https://i.imgur.com/OTuIRTL.png)"
      ]
    },
    {
      "cell_type": "code",
      "metadata": {
        "id": "JUR2feSex46r",
        "colab_type": "code",
        "colab": {}
      },
      "source": [
        "show_class_discriminative_heatmap(test_path_2.ls()[6],'landscape')\n",
        "\n",
        "save_name = 'class-disc-5'\n",
        "\n",
        "plt.savefig(f'{save_name}.png')\n",
        "img_link = upload_to_imgur(f'{save_name}.png',\n",
        "                    f'{save_name}',album_hash)\n",
        "print(f'![]({img_link})')"
      ],
      "execution_count": 0,
      "outputs": []
    },
    {
      "cell_type": "markdown",
      "metadata": {
        "id": "n2AoQBI2yFSt",
        "colab_type": "text"
      },
      "source": [
        "![](https://i.imgur.com/a4ibCcA.png)"
      ]
    },
    {
      "cell_type": "code",
      "metadata": {
        "id": "6cND2Q_1yC_Y",
        "colab_type": "code",
        "colab": {}
      },
      "source": [
        "show_class_discriminative_heatmap(test_path_2.ls()[6],'people-landscape')\n",
        "\n",
        "save_name = 'class-disc-6'\n",
        "\n",
        "plt.savefig(f'{save_name}.png')\n",
        "img_link = upload_to_imgur(f'{save_name}.png',\n",
        "                    f'{save_name}',album_hash)\n",
        "print(f'![]({img_link})')"
      ],
      "execution_count": 0,
      "outputs": []
    },
    {
      "cell_type": "markdown",
      "metadata": {
        "id": "xMK4raUAyIft",
        "colab_type": "text"
      },
      "source": [
        "![](https://i.imgur.com/WIRTPxS.png)"
      ]
    },
    {
      "cell_type": "code",
      "metadata": {
        "id": "IrXeydEozJ_U",
        "colab_type": "code",
        "colab": {}
      },
      "source": [
        "show_class_discriminative_heatmap(test_path_2.ls()[4],'people-landscape')\n",
        "\n",
        "save_name = 'class-disc-7'\n",
        "\n",
        "plt.savefig(f'{save_name}.png')\n",
        "img_link = upload_to_imgur(f'{save_name}.png',\n",
        "                    f'{save_name}',album_hash)\n",
        "print(f'![]({img_link})')"
      ],
      "execution_count": 0,
      "outputs": []
    },
    {
      "cell_type": "markdown",
      "metadata": {
        "id": "s7v3wm5jzR2D",
        "colab_type": "text"
      },
      "source": [
        "![](https://i.imgur.com/aoOxmml.png)"
      ]
    },
    {
      "cell_type": "code",
      "metadata": {
        "id": "9qRGxDirzPO1",
        "colab_type": "code",
        "colab": {}
      },
      "source": [
        "show_class_discriminative_heatmap(test_path_2.ls()[4],'landscape')\n",
        "\n",
        "save_name = 'class-disc-8'\n",
        "\n",
        "plt.savefig(f'{save_name}.png')\n",
        "img_link = upload_to_imgur(f'{save_name}.png',\n",
        "                    f'{save_name}',album_hash)\n",
        "print(f'![]({img_link})')"
      ],
      "execution_count": 0,
      "outputs": []
    },
    {
      "cell_type": "markdown",
      "metadata": {
        "id": "zuQj9bjtzVj7",
        "colab_type": "text"
      },
      "source": [
        "![](https://i.imgur.com/8hGLCYX.png)"
      ]
    }
  ]
}